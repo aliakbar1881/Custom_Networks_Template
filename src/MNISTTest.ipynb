{
 "cells": [
  {
   "cell_type": "code",
   "execution_count": 4,
   "id": "a65ee348-5cdf-45d2-ba9d-de2958d9c0c0",
   "metadata": {},
   "outputs": [],
   "source": [
    "import template_network as tempn"
   ]
  },
  {
   "cell_type": "code",
   "execution_count": 5,
   "id": "a4dfce93-05f4-4728-be1a-98d6ad982bc1",
   "metadata": {},
   "outputs": [],
   "source": [
    "import tensorflow as tf\n",
    "import numpy as np"
   ]
  },
  {
   "cell_type": "markdown",
   "id": "f11ec6c3-6db2-47c5-a900-4de545ebd5df",
   "metadata": {},
   "source": [
    "# MNIST test"
   ]
  },
  {
   "cell_type": "code",
   "execution_count": 6,
   "id": "44674ae3-a3c9-43e9-a309-86a41319a1a0",
   "metadata": {},
   "outputs": [],
   "source": [
    "mnist = tf.keras.datasets.mnist"
   ]
  },
  {
   "cell_type": "code",
   "execution_count": 7,
   "id": "0536460c-41f6-40c0-99b7-a197291fd2d5",
   "metadata": {},
   "outputs": [],
   "source": [
    "(train, train_label), (test, test_label) = mnist.load_data()"
   ]
  },
  {
   "cell_type": "code",
   "execution_count": 8,
   "id": "93d66524-e87c-4d32-9cf4-8bc2dd61343c",
   "metadata": {},
   "outputs": [
    {
     "data": {
      "text/plain": [
       "((60000, 28, 28), (10000, 28, 28))"
      ]
     },
     "execution_count": 8,
     "metadata": {},
     "output_type": "execute_result"
    }
   ],
   "source": [
    "train.shape, test.shape"
   ]
  },
  {
   "cell_type": "markdown",
   "id": "82f3f65c-4cab-4e0c-8974-11689d71a0a5",
   "metadata": {},
   "source": [
    "## Images Data"
   ]
  },
  {
   "cell_type": "code",
   "execution_count": 9,
   "id": "f8597463-cae7-4a83-a3b0-962afac78593",
   "metadata": {},
   "outputs": [],
   "source": [
    "import matplotlib.pyplot as plt\n",
    "import random"
   ]
  },
  {
   "cell_type": "code",
   "execution_count": 10,
   "id": "41fda4ed-ee04-4c64-8713-5be0101fcab0",
   "metadata": {},
   "outputs": [],
   "source": [
    "%matplotlib inline"
   ]
  },
  {
   "cell_type": "code",
   "execution_count": 11,
   "id": "6531d421-6333-451c-a60e-16eeffd94465",
   "metadata": {},
   "outputs": [
    {
     "data": {
      "image/png": "[encoded data removed]",
      "text/plain": [
       "<Figure size 640x480 with 9 Axes>"
      ]
     },
     "metadata": {},
     "output_type": "display_data"
    }
   ],
   "source": [
    "fig, ax = plt.subplots(3, 3)\n",
    "for i in range(3):\n",
    "    for j in range(3):\n",
    "        image = random.choice(train)\n",
    "        ax[i][j].axis('off')\n",
    "        ax[i][j].imshow(image)"
   ]
  },
  {
   "cell_type": "markdown",
   "id": "4edfe065-7085-4317-bf8c-64851f46ce8b",
   "metadata": {},
   "source": [
    "## Data Preprocessing"
   ]
  },
  {
   "cell_type": "code",
   "execution_count": 12,
   "id": "3a56beda-c90c-4271-9597-b130d57d5ac2",
   "metadata": {},
   "outputs": [],
   "source": [
    "train.shape = train.shape[0], -1\n",
    "test.shape = test.shape[0], -1"
   ]
  },
  {
   "cell_type": "code",
   "execution_count": 13,
   "id": "b1621362-ac77-4f70-bd7b-2a413073e19f",
   "metadata": {},
   "outputs": [
    {
     "data": {
      "text/plain": [
       "((60000, 784), (10000, 784))"
      ]
     },
     "execution_count": 13,
     "metadata": {},
     "output_type": "execute_result"
    }
   ],
   "source": [
    "train.shape, test.shape"
   ]
  },
  {
   "cell_type": "markdown",
   "id": "78532244-5b5f-4ae7-a39b-8800a193268b",
   "metadata": {},
   "source": [
    "# Split train/dev"
   ]
  },
  {
   "cell_type": "code",
   "execution_count": 14,
   "id": "a40e32fd-519e-4b12-be50-2c73c7faae91",
   "metadata": {},
   "outputs": [],
   "source": [
    "from sklearn.model_selection import train_test_split"
   ]
  },
  {
   "cell_type": "code",
   "execution_count": 15,
   "id": "081eb1a9-42fd-47f8-be24-daa6c1a15f15",
   "metadata": {},
   "outputs": [],
   "source": [
    "train, dev, train_label, dev_label = train_test_split(train, train_label, test_size=0.33 ,random_state=42)"
   ]
  },
  {
   "cell_type": "code",
   "execution_count": 16,
   "id": "cb889535-34e5-46ab-a4c6-d7e441b56a7a",
   "metadata": {},
   "outputs": [
    {
     "data": {
      "text/plain": [
       "8"
      ]
     },
     "execution_count": 16,
     "metadata": {},
     "output_type": "execute_result"
    }
   ],
   "source": [
    "train_label[0]"
   ]
  },
  {
   "cell_type": "markdown",
   "id": "09055c7e-3d05-4255-a519-a94634cede9e",
   "metadata": {},
   "source": [
    "## Convert to One Hot"
   ]
  },
  {
   "cell_type": "code",
   "execution_count": 17,
   "id": "7bb21ef0-7c06-46e2-a7c1-66e5bb30abb2",
   "metadata": {},
   "outputs": [],
   "source": [
    "from sklearn import preprocessing\n",
    "def one_hot_encoder(data):\n",
    "    ohe = preprocessing.OneHotEncoder()\n",
    "    data = data.reshape(-1, 1)\n",
    "    ohe.fit(data)\n",
    "    transformed_train = ohe.transform(data).toarray()\n",
    "    return transformed_train\n",
    "\n",
    "train_label = one_hot_encoder(train_label)\n",
    "dev_label = one_hot_encoder(dev_label)"
   ]
  },
  {
   "cell_type": "markdown",
   "id": "cbfff915-dc94-4c84-8959-33cebdf38a32",
   "metadata": {},
   "source": [
    "## Build Model"
   ]
  },
  {
   "cell_type": "code",
   "execution_count": 18,
   "id": "5e4f66a0-8c5d-4204-b27a-c147bd3fec99",
   "metadata": {},
   "outputs": [],
   "source": [
    "def build_model():\n",
    "    model = tempn.model.MLP(\n",
    "        [\n",
    "            tempn.layer.FullyConnect(32, name='fisrt'),\n",
    "            tempn.layer.FullyConnect(10, activation='softmax', name='output'),\n",
    "        ],\n",
    "        input_shape=784\n",
    "    )\n",
    "    model.compile(optimizer=tempn.optimizer.MomentSGD(beta=0.9), loss=tempn.loss.MeanSquaredError())\n",
    "    return model\n",
    "\n",
    "model = build_model()"
   ]
  },
  {
   "cell_type": "markdown",
   "id": "bb0d58d5-7c98-4196-8cf0-df2f14c60a9a",
   "metadata": {},
   "source": [
    "## Fit data"
   ]
  },
  {
   "cell_type": "code",
   "execution_count": 19,
   "id": "571c02e8-c097-4271-b6df-91d379f5abd7",
   "metadata": {},
   "outputs": [
    {
     "name": "stdout",
     "output_type": "stream",
     "text": [
      "train_loss:  1.7398202084596674\n",
      "dev_loss:  1.7423245467563526\n",
      "train_loss:  1.7398202084596674\n",
      "dev_loss:  1.7423245467563526\n",
      "train_loss:  1.7398202084596674\n",
      "dev_loss:  1.7423245467563098\n",
      "train_loss:  1.739820208459591\n",
      "dev_loss:  1.7423245467260726\n",
      "train_loss:  1.7398202084051173\n",
      "dev_loss:  1.7423245253903128\n",
      "train_loss:  1.739820169968986\n",
      "dev_loss:  1.7423094133489279\n",
      "train_loss:  1.739793090556891\n",
      "dev_loss:  1.7232345632898733\n",
      "train_loss:  1.7216077387460977\n",
      "dev_loss:  0.9083844690108331\n",
      "train_loss:  0.9082316713667085\n",
      "dev_loss:  0.9083844690108331\n",
      "train_loss:  0.9082316713667085\n",
      "dev_loss:  0.9083844690108331\n",
      "train_loss:  0.9082316713667085\n",
      "dev_loss:  0.9083844690108331\n",
      "train_loss:  0.9082316713667083\n",
      "dev_loss:  0.9083844690108331\n",
      "train_loss:  0.9082316713667085\n",
      "dev_loss:  0.9083844690108331\n",
      "train_loss:  0.9082316713667085\n",
      "dev_loss:  0.9083844690108331\n",
      "train_loss:  0.9082316713667083\n",
      "dev_loss:  0.9083844690108331\n",
      "train_loss:  0.9082316713667085\n",
      "dev_loss:  0.9083844690108331\n",
      "train_loss:  0.9082316713667085\n",
      "dev_loss:  0.9083844690108331\n",
      "train_loss:  0.9082316713667083\n",
      "dev_loss:  0.9083844690108331\n",
      "train_loss:  0.9082316713667085\n",
      "dev_loss:  0.9083844690108331\n",
      "train_loss:  0.9082316713667085\n",
      "dev_loss:  0.9083844690108331\n"
     ]
    }
   ],
   "source": [
    "train_loss, dev_loss = model.fit(train, train_label, validation=(dev, dev_label), epochs=20)"
   ]
  },
  {
   "cell_type": "code",
   "execution_count": 20,
   "id": "7833d781-703c-4a66-a82f-2eb46b9a6599",
   "metadata": {},
   "outputs": [
    {
     "data": {
      "text/plain": [
       "[1.7398202084596674,\n",
       " 1.7398202084596674,\n",
       " 1.7398202084596674,\n",
       " 1.739820208459591,\n",
       " 1.7398202084051173,\n",
       " 1.739820169968986,\n",
       " 1.739793090556891,\n",
       " 1.7216077387460977,\n",
       " 0.9082316713667085,\n",
       " 0.9082316713667085,\n",
       " 0.9082316713667085,\n",
       " 0.9082316713667083,\n",
       " 0.9082316713667085,\n",
       " 0.9082316713667085,\n",
       " 0.9082316713667083,\n",
       " 0.9082316713667085,\n",
       " 0.9082316713667085,\n",
       " 0.9082316713667083,\n",
       " 0.9082316713667085,\n",
       " 0.9082316713667085]"
      ]
     },
     "execution_count": 20,
     "metadata": {},
     "output_type": "execute_result"
    }
   ],
   "source": [
    "train_loss"
   ]
  },
  {
   "cell_type": "code",
   "execution_count": 21,
   "id": "51b6ec59-f016-456a-b0d4-f5ba2e69e480",
   "metadata": {},
   "outputs": [
    {
     "data": {
      "text/plain": [
       "[<matplotlib.lines.Line2D at 0x7f31658f1580>]"
      ]
     },
     "execution_count": 21,
     "metadata": {},
     "output_type": "execute_result"
    },
    {
     "data": {
      "image/png": "[encoded data removed]",
      "text/plain": [
       "<Figure size 640x480 with 1 Axes>"
      ]
     },
     "metadata": {},
     "output_type": "display_data"
    }
   ],
   "source": [
    "plt.plot(range(1, len(train_loss) + 1), train_loss, color='r')\n",
    "plt.plot(range(1, len(train_loss) + 1), dev_loss, color='b')"
   ]
  }
 ],
 "metadata": {
  "kernelspec": {
   "display_name": "Python 3 (ipykernel)",
   "language": "python",
   "name": "python3"
  },
  "language_info": {
   "codemirror_mode": {
    "name": "ipython",
    "version": 3
   },
   "file_extension": ".py",
   "mimetype": "text/x-python",
   "name": "python",
   "nbconvert_exporter": "python",
   "pygments_lexer": "ipython3",
   "version": "3.9.15"
  }
 },
 "nbformat": 4,
 "nbformat_minor": 5
}
